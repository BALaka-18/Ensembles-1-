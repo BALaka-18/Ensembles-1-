{
  "nbformat": 4,
  "nbformat_minor": 0,
  "metadata": {
    "colab": {
      "name": "Selecting correct ROC threshold for binary classification.ipynb",
      "provenance": [],
      "authorship_tag": "ABX9TyOuPbRQNs/X9V3NYnh41rmN"
    },
    "kernelspec": {
      "name": "python3",
      "display_name": "Python 3"
    }
  },
  "cells": [
    {
      "cell_type": "code",
      "metadata": {
        "id": "rPm5Q5bUswlz"
      },
      "source": [
        "import numpy as np\n",
        "import pandas as pd\n",
        "import matplotlib.pyplot as plt\n",
        "%matplotlib inline\n",
        "import seaborn as sns\n",
        "# ROC curve and AUC score\n",
        "from sklearn.datasets import make_classification\n",
        "from sklearn.model_selection import train_test_split\n",
        "from sklearn.metrics import roc_curve,roc_auc_score,accuracy_score\n",
        "from sklearn.ensemble import RandomForestClassifier,AdaBoostClassifier\n",
        "from sklearn.linear_model import LogisticRegression\n",
        "from sklearn.neighbors import KNeighborsClassifier"
      ],
      "execution_count": 18,
      "outputs": []
    },
    {
      "cell_type": "code",
      "metadata": {
        "colab": {
          "base_uri": "https://localhost:8080/"
        },
        "id": "qvQdV7GTL95m",
        "outputId": "677a3bc9-8895-41e8-f764-8599c05eb005"
      },
      "source": [
        "X,Y = make_classification(n_samples=2000,n_classes=2,weights=[1,1],random_state=1)\n",
        "trainx,testx,trainy,testy = train_test_split(X,Y,test_size=0.3,random_state=1)\n",
        "print(\"X shape = {}, Y shape = {}\\nTrain X shape = {}, Test X shape = {}\\nTrain Y shape = {}, Test Y shape = {}\".format(X.shape,Y.shape,trainx.shape,testx.shape,trainy.shape,testy.shape))"
      ],
      "execution_count": 2,
      "outputs": [
        {
          "output_type": "stream",
          "text": [
            "X shape = (2000, 20), Y shape = (2000,)\n",
            "Train X shape = (1400, 20), Test X shape = (600, 20)\n",
            "Train Y shape = (1400,), Test Y shape = (600,)\n"
          ],
          "name": "stdout"
        }
      ]
    },
    {
      "cell_type": "code",
      "metadata": {
        "colab": {
          "base_uri": "https://localhost:8080/"
        },
        "id": "I2FJOe6hPCVC",
        "outputId": "0cd77510-ad3f-4896-bd3a-5b6fe8ad13ff"
      },
      "source": [
        "# Random Forest classifier\n",
        "rf_classifier = RandomForestClassifier()\n",
        "rf_classifier.fit(trainx,trainy)\n",
        "ytrain_pred,ytest_pred = rf_classifier.predict_proba(trainx),rf_classifier.predict_proba(testx)\n",
        "print(\"ROC AUC score for training data = {}\\nROC AUC score for testing data = {}\".format(roc_auc_score(trainy,ytrain_pred[:,1]),roc_auc_score(testy,ytest_pred[:,1])))"
      ],
      "execution_count": 4,
      "outputs": [
        {
          "output_type": "stream",
          "text": [
            "ROC AUC score for training data = 1.0\n",
            "ROC AUC score for testing data = 0.9822\n"
          ],
          "name": "stdout"
        }
      ]
    },
    {
      "cell_type": "code",
      "metadata": {
        "colab": {
          "base_uri": "https://localhost:8080/"
        },
        "id": "Mb2_Jwm4R2EL",
        "outputId": "c0a2cb9c-0509-4c93-cebd-eddb8c362dd6"
      },
      "source": [
        "# Logistic Regression classifier\n",
        "log_classifier = LogisticRegression()\n",
        "log_classifier.fit(trainx,trainy)\n",
        "ytrain_pred_log,ytest_pred_log = log_classifier.predict_proba(trainx),log_classifier.predict_proba(testx)\n",
        "print(\"ROC AUC score for training data = {}\\nROC AUC score for testing data = {}\".format(roc_auc_score(trainy,ytrain_pred_log[:,1]),roc_auc_score(testy,ytest_pred_log[:,1])))"
      ],
      "execution_count": 5,
      "outputs": [
        {
          "output_type": "stream",
          "text": [
            "ROC AUC score for training data = 0.9863568922694498\n",
            "ROC AUC score for testing data = 0.9885777777777777\n"
          ],
          "name": "stdout"
        }
      ]
    },
    {
      "cell_type": "code",
      "metadata": {
        "colab": {
          "base_uri": "https://localhost:8080/"
        },
        "id": "b_HZVbcMUJ_M",
        "outputId": "bf2b712b-52b6-42d1-db92-9c848c3413db"
      },
      "source": [
        "# Adaboost classifier\n",
        "ada_classifier = AdaBoostClassifier()\n",
        "ada_classifier.fit(trainx,trainy)\n",
        "ytrain_pred_ada,ytest_pred_ada = ada_classifier.predict_proba(trainx),ada_classifier.predict_proba(testx)\n",
        "print(\"ROC AUC score for training data = {}\\nROC AUC score for testing data = {}\".format(roc_auc_score(trainy,ytrain_pred_ada[:,1]),roc_auc_score(testy,ytest_pred_ada[:,1])))"
      ],
      "execution_count": 6,
      "outputs": [
        {
          "output_type": "stream",
          "text": [
            "ROC AUC score for training data = 0.9975081174960356\n",
            "ROC AUC score for testing data = 0.9826111111111111\n"
          ],
          "name": "stdout"
        }
      ]
    },
    {
      "cell_type": "code",
      "metadata": {
        "colab": {
          "base_uri": "https://localhost:8080/"
        },
        "id": "Mq-LRtI2UzQq",
        "outputId": "6f888580-a5b4-4a58-8860-522a09583bf7"
      },
      "source": [
        "#KNN classifier\n",
        "knn_classifier = KNeighborsClassifier()\n",
        "knn_classifier.fit(trainx,trainy)\n",
        "ytrain_pred_knn,ytest_pred_knn = knn_classifier.predict_proba(trainx),knn_classifier.predict_proba(testx)\n",
        "print(\"ROC AUC score for training data = {}\\nROC AUC score for testing data = {}\".format(roc_auc_score(trainy,ytrain_pred_knn[:,1]),roc_auc_score(testy,ytest_pred_knn[:,1])))"
      ],
      "execution_count": 8,
      "outputs": [
        {
          "output_type": "stream",
          "text": [
            "ROC AUC score for training data = 0.981670071491109\n",
            "ROC AUC score for testing data = 0.9426111111111111\n"
          ],
          "name": "stdout"
        }
      ]
    },
    {
      "cell_type": "code",
      "metadata": {
        "colab": {
          "base_uri": "https://localhost:8080/"
        },
        "id": "SiEoJkr1VDTs",
        "outputId": "a82d5d6a-f8f7-4bf2-e00d-70b24056ca01"
      },
      "source": [
        "# Selecting the best threshold for maximum accuracy\n",
        "pred = []\n",
        "for model in [rf_classifier,log_classifier,ada_classifier,knn_classifier]:\n",
        "  pred.append(pd.Series(model.predict_proba(testx)[:,1]))\n",
        "# Concatenate the prediction results for all 3 classifiers column-wise in a dataframe and for all samples, calculate the mean predict_proba\n",
        "print(pd.concat(pred,axis=1))\n",
        "final_prediction = pd.concat(pred,axis=1).mean(axis=1)\n",
        "print(final_prediction)\n",
        "print(\"\\nEnsemble ROC AUC score for all 4 classifiers together = {}\".format(roc_auc_score(testy,final_prediction)))\n",
        "# Calculating thresholds\n",
        "fpr,tpr,thresholds = roc_curve(testy,final_prediction)"
      ],
      "execution_count": 17,
      "outputs": [
        {
          "output_type": "stream",
          "text": [
            "        0         1         2    3\n",
            "0    0.97  0.991861  0.559186  1.0\n",
            "1    0.00  0.000008  0.463282  0.0\n",
            "2    0.96  0.966929  0.538202  0.8\n",
            "3    0.93  0.761539  0.509875  0.8\n",
            "4    0.58  0.779443  0.490344  0.4\n",
            "..    ...       ...       ...  ...\n",
            "595  0.01  0.024239  0.461121  0.0\n",
            "596  0.01  0.000003  0.441377  0.0\n",
            "597  1.00  0.984385  0.532403  1.0\n",
            "598  0.02  0.001147  0.441720  0.2\n",
            "599  0.99  0.989540  0.559890  0.8\n",
            "\n",
            "[600 rows x 4 columns]\n",
            "0      0.880262\n",
            "1      0.115823\n",
            "2      0.816283\n",
            "3      0.750353\n",
            "4      0.562447\n",
            "         ...   \n",
            "595    0.123840\n",
            "596    0.112845\n",
            "597    0.879197\n",
            "598    0.165717\n",
            "599    0.834857\n",
            "Length: 600, dtype: float64\n",
            "\n",
            "Ensemble ROC AUC score for all 4 classifiers together = 0.9848\n"
          ],
          "name": "stdout"
        }
      ]
    },
    {
      "cell_type": "code",
      "metadata": {
        "colab": {
          "base_uri": "https://localhost:8080/",
          "height": 191
        },
        "id": "GpS9bAE0YxCy",
        "outputId": "906ad989-c327-4df4-a507-63ac54933e54"
      },
      "source": [
        "accuracy_list = []\n",
        "for thres in thresholds:\n",
        "  y_pred = np.where(final_prediction > thres,1,0)\n",
        "  accuracy_list.append(accuracy_score(testy,y_pred,normalize=True))\n",
        "accuracy_list = pd.concat([pd.Series(thresholds), pd.Series(accuracy_list)],\n",
        "                        axis=1)\n",
        "accuracy_list.columns = ['Thresholds', 'Accuracy Scores']\n",
        "accuracy_list.sort_values(by='Accuracy Scores', ascending=False, inplace=True)\n",
        "accuracy_list.head()"
      ],
      "execution_count": 19,
      "outputs": [
        {
          "output_type": "execute_result",
          "data": {
            "text/html": [
              "<div>\n",
              "<style scoped>\n",
              "    .dataframe tbody tr th:only-of-type {\n",
              "        vertical-align: middle;\n",
              "    }\n",
              "\n",
              "    .dataframe tbody tr th {\n",
              "        vertical-align: top;\n",
              "    }\n",
              "\n",
              "    .dataframe thead th {\n",
              "        text-align: right;\n",
              "    }\n",
              "</style>\n",
              "<table border=\"1\" class=\"dataframe\">\n",
              "  <thead>\n",
              "    <tr style=\"text-align: right;\">\n",
              "      <th></th>\n",
              "      <th>Thresholds</th>\n",
              "      <th>Accuracy Scores</th>\n",
              "    </tr>\n",
              "  </thead>\n",
              "  <tbody>\n",
              "    <tr>\n",
              "      <th>31</th>\n",
              "      <td>0.439728</td>\n",
              "      <td>0.961667</td>\n",
              "    </tr>\n",
              "    <tr>\n",
              "      <th>32</th>\n",
              "      <td>0.437103</td>\n",
              "      <td>0.960000</td>\n",
              "    </tr>\n",
              "    <tr>\n",
              "      <th>30</th>\n",
              "      <td>0.454506</td>\n",
              "      <td>0.960000</td>\n",
              "    </tr>\n",
              "    <tr>\n",
              "      <th>23</th>\n",
              "      <td>0.552196</td>\n",
              "      <td>0.958333</td>\n",
              "    </tr>\n",
              "    <tr>\n",
              "      <th>29</th>\n",
              "      <td>0.496169</td>\n",
              "      <td>0.958333</td>\n",
              "    </tr>\n",
              "  </tbody>\n",
              "</table>\n",
              "</div>"
            ],
            "text/plain": [
              "    Thresholds  Accuracy Scores\n",
              "31    0.439728         0.961667\n",
              "32    0.437103         0.960000\n",
              "30    0.454506         0.960000\n",
              "23    0.552196         0.958333\n",
              "29    0.496169         0.958333"
            ]
          },
          "metadata": {
            "tags": []
          },
          "execution_count": 19
        }
      ]
    },
    {
      "cell_type": "code",
      "metadata": {
        "id": "pQoavzjlbfXb"
      },
      "source": [
        "# Therefore, the ideal threshold is 0.439728"
      ],
      "execution_count": 20,
      "outputs": []
    },
    {
      "cell_type": "code",
      "metadata": {
        "colab": {
          "base_uri": "https://localhost:8080/",
          "height": 295
        },
        "id": "92p08QClbmLR",
        "outputId": "7522dae7-f29b-4943-a220-c89bec138672"
      },
      "source": [
        "# Plotting the ROC curve\n",
        "plt.plot(fpr, tpr, color='red', label='ROC')\n",
        "plt.plot([0, 1], [0, 1], color='black', linestyle='--')\n",
        "plt.xlabel('False Positive Rate')\n",
        "plt.ylabel('True Positive Rate')\n",
        "plt.title('Receiver Operating Characteristic (ROC) Curve')\n",
        "plt.legend()\n",
        "plt.show()"
      ],
      "execution_count": 21,
      "outputs": [
        {
          "output_type": "display_data",
          "data": {
            "image/png": "[encoded data removed]",
            "text/plain": [
              "<Figure size 432x288 with 1 Axes>"
            ]
          },
          "metadata": {
            "tags": [],
            "needs_background": "light"
          }
        }
      ]
    },
    {
      "cell_type": "code",
      "metadata": {
        "id": "ONpg5F6Kb1aw"
      },
      "source": [
        ""
      ],
      "execution_count": null,
      "outputs": []
    }
  ]
}