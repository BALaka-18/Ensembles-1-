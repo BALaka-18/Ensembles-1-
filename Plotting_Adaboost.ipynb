{
  "nbformat": 4,
  "nbformat_minor": 0,
  "metadata": {
    "colab": {
      "name": "Plotting Adaboost.ipynb",
      "provenance": []
    },
    "kernelspec": {
      "name": "python3",
      "display_name": "Python 3"
    }
  },
  "cells": [
    {
      "cell_type": "code",
      "metadata": {
        "id": "wzTdBKkMsLNX",
        "colab_type": "code",
        "colab": {}
      },
      "source": [
        "import numpy as np\n",
        "import pandas as pd\n",
        "import matplotlib as ml\n",
        "import matplotlib.pyplot as plt\n",
        "from matplotlib.colors import ListedColormap\n",
        "from sklearn.tree import DecisionTreeClassifier\n",
        "from sklearn.model_selection import train_test_split\n",
        "from sklearn.preprocessing import LabelEncoder\n",
        "from sklearn.ensemble import AdaBoostClassifier as adb"
      ],
      "execution_count": 10,
      "outputs": []
    },
    {
      "cell_type": "markdown",
      "metadata": {
        "id": "CBm8JcUB27JE",
        "colab_type": "text"
      },
      "source": [
        "### Adaboost classifier from scratch"
      ]
    },
    {
      "cell_type": "code",
      "metadata": {
        "id": "zA-iIwow2z4i",
        "colab_type": "code",
        "colab": {}
      },
      "source": [
        "class AdaboostClassifier():\n",
        "  def __init__(self,base_estimator=DecisionTreeClassifier(max_depth=1,max_leaf_nodes=2),n_estimators=50):\n",
        "    self.base_estimator = base_estimator\n",
        "    self.n_estimators = n_estimators\n",
        "    # Factors that work under the hood\n",
        "    # Stumps (Models)\n",
        "    self.stumps = None\n",
        "    # Alpha values\n",
        "    self.stump_weights = None\n",
        "    # Errors per estimator\n",
        "    self.errors = None\n",
        "    # Initializing weights\n",
        "    self.sample_weights = None\n",
        "  def fit(self,trainx,trainy):\n",
        "    N = trainx.shape[0]\n",
        "\n",
        "    # Initialize the factors\n",
        "    # Stumps (Models)\n",
        "    self.stumps = np.zeros(shape=self.n_estimators,dtype=object)\n",
        "    # Alpha values\n",
        "    self.stump_weights = np.zeros(shape=self.n_estimators)\n",
        "    # Errors per estimator\n",
        "    self.errors = np.zeros(shape=self.n_estimators)\n",
        "    # Initializing weights\n",
        "    self.sample_weights = np.zeros(shape=(self.n_estimators,N))\n",
        "\n",
        "    # Initialize weight for run 1(then automated updation)\n",
        "    self.sample_weights[0] = (np.ones(shape=N))/N\n",
        "\n",
        "    # Main procedure(iterate over all n_estimators)\n",
        "    for i in range(self.n_estimators):\n",
        "      current_weight = self.sample_weights[i]\n",
        "      stump = self.base_estimator\n",
        "      stump.fit(trainx,trainy,sample_weight = current_weight)\n",
        "      # Calculate error and alpha values\n",
        "      stump_pred = stump.predict(trainx)\n",
        "      err = current_weight[(stump_pred != trainy)].sum()\n",
        "      stump_weight = np.log((1 - err)/err)/2\n",
        "      # Update\n",
        "      new_sample_weights = (\n",
        "          current_weight*np.exp(-stump_weight*trainy*stump_pred)\n",
        "      )\n",
        "      # Normalize alpha\n",
        "      new_sample_weights /= new_sample_weights.sum()\n",
        "\n",
        "      # Condition to check if next iteration is last\n",
        "      # If no, update sample_weights (initialized weights)\n",
        "      if i+1 < self.n_estimators:\n",
        "        self.sample_weights[i+1] = new_sample_weights\n",
        "\n",
        "      # Append values we just found out to the factors' arrays\n",
        "      # Stumps (Models)\n",
        "      self.stumps[i] = stump\n",
        "      # Alpha values\n",
        "      self.stump_weights[i] = stump_weight\n",
        "      # Errors per estimator\n",
        "      self.errors[i] = err\n",
        "    return self\n",
        "  def predict(self,testx):\n",
        "    stump_preds = np.array([stump.predict(testx) for stump in self.stumps])\n",
        "    # Define output and sign related to it\n",
        "    # Note : Classes are of two types here = -1 and +1\n",
        "    return np.sign(np.dot(self.stump_weights,stump_preds))"
      ],
      "execution_count": 2,
      "outputs": []
    },
    {
      "cell_type": "markdown",
      "metadata": {
        "id": "0KSA9IjY-WTQ",
        "colab_type": "text"
      },
      "source": [
        "### Checking how it works on a sample dataset\n",
        "#### Dataset used : play_tennis.csv"
      ]
    },
    {
      "cell_type": "code",
      "metadata": {
        "id": "5Cx9O-PO-VXn",
        "colab_type": "code",
        "colab": {
          "base_uri": "https://localhost:8080/",
          "height": 335
        },
        "outputId": "7e194cc7-01ec-42e5-d6a3-a96d2d64ecae"
      },
      "source": [
        "tennis = pd.read_csv('/content/drive/My Drive/datasets_89775_207354_play_tennis (1).csv')\n",
        "tennis.drop(columns=['day'],inplace=True)\n",
        "tennis['play'] = tennis['play'].replace('Yes',1)\n",
        "tennis['play'] = tennis['play'].replace('No',-1)\n",
        "tennis.head(10)"
      ],
      "execution_count": 3,
      "outputs": [
        {
          "output_type": "execute_result",
          "data": {
            "text/html": [
              "<div>\n",
              "<style scoped>\n",
              "    .dataframe tbody tr th:only-of-type {\n",
              "        vertical-align: middle;\n",
              "    }\n",
              "\n",
              "    .dataframe tbody tr th {\n",
              "        vertical-align: top;\n",
              "    }\n",
              "\n",
              "    .dataframe thead th {\n",
              "        text-align: right;\n",
              "    }\n",
              "</style>\n",
              "<table border=\"1\" class=\"dataframe\">\n",
              "  <thead>\n",
              "    <tr style=\"text-align: right;\">\n",
              "      <th></th>\n",
              "      <th>outlook</th>\n",
              "      <th>temp</th>\n",
              "      <th>humidity</th>\n",
              "      <th>wind</th>\n",
              "      <th>play</th>\n",
              "    </tr>\n",
              "  </thead>\n",
              "  <tbody>\n",
              "    <tr>\n",
              "      <th>0</th>\n",
              "      <td>Sunny</td>\n",
              "      <td>Hot</td>\n",
              "      <td>High</td>\n",
              "      <td>Weak</td>\n",
              "      <td>-1</td>\n",
              "    </tr>\n",
              "    <tr>\n",
              "      <th>1</th>\n",
              "      <td>Sunny</td>\n",
              "      <td>Hot</td>\n",
              "      <td>High</td>\n",
              "      <td>Strong</td>\n",
              "      <td>-1</td>\n",
              "    </tr>\n",
              "    <tr>\n",
              "      <th>2</th>\n",
              "      <td>Overcast</td>\n",
              "      <td>Hot</td>\n",
              "      <td>High</td>\n",
              "      <td>Weak</td>\n",
              "      <td>1</td>\n",
              "    </tr>\n",
              "    <tr>\n",
              "      <th>3</th>\n",
              "      <td>Rain</td>\n",
              "      <td>Mild</td>\n",
              "      <td>High</td>\n",
              "      <td>Weak</td>\n",
              "      <td>1</td>\n",
              "    </tr>\n",
              "    <tr>\n",
              "      <th>4</th>\n",
              "      <td>Rain</td>\n",
              "      <td>Cool</td>\n",
              "      <td>Normal</td>\n",
              "      <td>Weak</td>\n",
              "      <td>1</td>\n",
              "    </tr>\n",
              "    <tr>\n",
              "      <th>5</th>\n",
              "      <td>Rain</td>\n",
              "      <td>Cool</td>\n",
              "      <td>Normal</td>\n",
              "      <td>Strong</td>\n",
              "      <td>-1</td>\n",
              "    </tr>\n",
              "    <tr>\n",
              "      <th>6</th>\n",
              "      <td>Overcast</td>\n",
              "      <td>Cool</td>\n",
              "      <td>Normal</td>\n",
              "      <td>Strong</td>\n",
              "      <td>1</td>\n",
              "    </tr>\n",
              "    <tr>\n",
              "      <th>7</th>\n",
              "      <td>Sunny</td>\n",
              "      <td>Mild</td>\n",
              "      <td>High</td>\n",
              "      <td>Weak</td>\n",
              "      <td>-1</td>\n",
              "    </tr>\n",
              "    <tr>\n",
              "      <th>8</th>\n",
              "      <td>Sunny</td>\n",
              "      <td>Cool</td>\n",
              "      <td>Normal</td>\n",
              "      <td>Weak</td>\n",
              "      <td>1</td>\n",
              "    </tr>\n",
              "    <tr>\n",
              "      <th>9</th>\n",
              "      <td>Rain</td>\n",
              "      <td>Mild</td>\n",
              "      <td>Normal</td>\n",
              "      <td>Weak</td>\n",
              "      <td>1</td>\n",
              "    </tr>\n",
              "  </tbody>\n",
              "</table>\n",
              "</div>"
            ],
            "text/plain": [
              "    outlook  temp humidity    wind  play\n",
              "0     Sunny   Hot     High    Weak    -1\n",
              "1     Sunny   Hot     High  Strong    -1\n",
              "2  Overcast   Hot     High    Weak     1\n",
              "3      Rain  Mild     High    Weak     1\n",
              "4      Rain  Cool   Normal    Weak     1\n",
              "5      Rain  Cool   Normal  Strong    -1\n",
              "6  Overcast  Cool   Normal  Strong     1\n",
              "7     Sunny  Mild     High    Weak    -1\n",
              "8     Sunny  Cool   Normal    Weak     1\n",
              "9      Rain  Mild   Normal    Weak     1"
            ]
          },
          "metadata": {
            "tags": []
          },
          "execution_count": 3
        }
      ]
    },
    {
      "cell_type": "markdown",
      "metadata": {
        "id": "yJ0sP5myCrI8",
        "colab_type": "text"
      },
      "source": [
        "Label encoding"
      ]
    },
    {
      "cell_type": "code",
      "metadata": {
        "id": "dZOEAndJ_NBm",
        "colab_type": "code",
        "colab": {
          "base_uri": "https://localhost:8080/",
          "height": 450
        },
        "outputId": "3f5755fa-8036-4632-eb51-394e515d67d0"
      },
      "source": [
        "le = LabelEncoder()\n",
        "tennis['outlook'] = le.fit_transform(tennis['outlook'])\n",
        "tennis['temp'] = le.fit_transform(tennis['temp'])\n",
        "tennis['humidity'] = le.fit_transform(tennis['humidity'])\n",
        "tennis['wind'] = le.fit_transform(tennis['wind'])\n",
        "tennis"
      ],
      "execution_count": 4,
      "outputs": [
        {
          "output_type": "execute_result",
          "data": {
            "text/html": [
              "<div>\n",
              "<style scoped>\n",
              "    .dataframe tbody tr th:only-of-type {\n",
              "        vertical-align: middle;\n",
              "    }\n",
              "\n",
              "    .dataframe tbody tr th {\n",
              "        vertical-align: top;\n",
              "    }\n",
              "\n",
              "    .dataframe thead th {\n",
              "        text-align: right;\n",
              "    }\n",
              "</style>\n",
              "<table border=\"1\" class=\"dataframe\">\n",
              "  <thead>\n",
              "    <tr style=\"text-align: right;\">\n",
              "      <th></th>\n",
              "      <th>outlook</th>\n",
              "      <th>temp</th>\n",
              "      <th>humidity</th>\n",
              "      <th>wind</th>\n",
              "      <th>play</th>\n",
              "    </tr>\n",
              "  </thead>\n",
              "  <tbody>\n",
              "    <tr>\n",
              "      <th>0</th>\n",
              "      <td>2</td>\n",
              "      <td>1</td>\n",
              "      <td>0</td>\n",
              "      <td>1</td>\n",
              "      <td>-1</td>\n",
              "    </tr>\n",
              "    <tr>\n",
              "      <th>1</th>\n",
              "      <td>2</td>\n",
              "      <td>1</td>\n",
              "      <td>0</td>\n",
              "      <td>0</td>\n",
              "      <td>-1</td>\n",
              "    </tr>\n",
              "    <tr>\n",
              "      <th>2</th>\n",
              "      <td>0</td>\n",
              "      <td>1</td>\n",
              "      <td>0</td>\n",
              "      <td>1</td>\n",
              "      <td>1</td>\n",
              "    </tr>\n",
              "    <tr>\n",
              "      <th>3</th>\n",
              "      <td>1</td>\n",
              "      <td>2</td>\n",
              "      <td>0</td>\n",
              "      <td>1</td>\n",
              "      <td>1</td>\n",
              "    </tr>\n",
              "    <tr>\n",
              "      <th>4</th>\n",
              "      <td>1</td>\n",
              "      <td>0</td>\n",
              "      <td>1</td>\n",
              "      <td>1</td>\n",
              "      <td>1</td>\n",
              "    </tr>\n",
              "    <tr>\n",
              "      <th>5</th>\n",
              "      <td>1</td>\n",
              "      <td>0</td>\n",
              "      <td>1</td>\n",
              "      <td>0</td>\n",
              "      <td>-1</td>\n",
              "    </tr>\n",
              "    <tr>\n",
              "      <th>6</th>\n",
              "      <td>0</td>\n",
              "      <td>0</td>\n",
              "      <td>1</td>\n",
              "      <td>0</td>\n",
              "      <td>1</td>\n",
              "    </tr>\n",
              "    <tr>\n",
              "      <th>7</th>\n",
              "      <td>2</td>\n",
              "      <td>2</td>\n",
              "      <td>0</td>\n",
              "      <td>1</td>\n",
              "      <td>-1</td>\n",
              "    </tr>\n",
              "    <tr>\n",
              "      <th>8</th>\n",
              "      <td>2</td>\n",
              "      <td>0</td>\n",
              "      <td>1</td>\n",
              "      <td>1</td>\n",
              "      <td>1</td>\n",
              "    </tr>\n",
              "    <tr>\n",
              "      <th>9</th>\n",
              "      <td>1</td>\n",
              "      <td>2</td>\n",
              "      <td>1</td>\n",
              "      <td>1</td>\n",
              "      <td>1</td>\n",
              "    </tr>\n",
              "    <tr>\n",
              "      <th>10</th>\n",
              "      <td>2</td>\n",
              "      <td>2</td>\n",
              "      <td>1</td>\n",
              "      <td>0</td>\n",
              "      <td>1</td>\n",
              "    </tr>\n",
              "    <tr>\n",
              "      <th>11</th>\n",
              "      <td>0</td>\n",
              "      <td>2</td>\n",
              "      <td>0</td>\n",
              "      <td>0</td>\n",
              "      <td>1</td>\n",
              "    </tr>\n",
              "    <tr>\n",
              "      <th>12</th>\n",
              "      <td>0</td>\n",
              "      <td>1</td>\n",
              "      <td>1</td>\n",
              "      <td>1</td>\n",
              "      <td>1</td>\n",
              "    </tr>\n",
              "    <tr>\n",
              "      <th>13</th>\n",
              "      <td>1</td>\n",
              "      <td>2</td>\n",
              "      <td>0</td>\n",
              "      <td>0</td>\n",
              "      <td>-1</td>\n",
              "    </tr>\n",
              "  </tbody>\n",
              "</table>\n",
              "</div>"
            ],
            "text/plain": [
              "    outlook  temp  humidity  wind  play\n",
              "0         2     1         0     1    -1\n",
              "1         2     1         0     0    -1\n",
              "2         0     1         0     1     1\n",
              "3         1     2         0     1     1\n",
              "4         1     0         1     1     1\n",
              "5         1     0         1     0    -1\n",
              "6         0     0         1     0     1\n",
              "7         2     2         0     1    -1\n",
              "8         2     0         1     1     1\n",
              "9         1     2         1     1     1\n",
              "10        2     2         1     0     1\n",
              "11        0     2         0     0     1\n",
              "12        0     1         1     1     1\n",
              "13        1     2         0     0    -1"
            ]
          },
          "metadata": {
            "tags": []
          },
          "execution_count": 4
        }
      ]
    },
    {
      "cell_type": "code",
      "metadata": {
        "id": "qcb7rpGfF6IJ",
        "colab_type": "code",
        "colab": {}
      },
      "source": [
        "X,Y = tennis.iloc[:,:-1],tennis.iloc[:,-1].values\n",
        "trainx,testx,trainy,testy = train_test_split(X,Y,test_size=0.2,random_state=0)"
      ],
      "execution_count": 5,
      "outputs": []
    },
    {
      "cell_type": "code",
      "metadata": {
        "id": "8CqziYQZGtlV",
        "colab_type": "code",
        "colab": {
          "base_uri": "https://localhost:8080/",
          "height": 33
        },
        "outputId": "7fe4f15a-f9f5-488f-fb21-fbd1b80437fd"
      },
      "source": [
        "adb = AdaboostClassifier()\n",
        "adb.fit(trainx,trainy)"
      ],
      "execution_count": 6,
      "outputs": [
        {
          "output_type": "execute_result",
          "data": {
            "text/plain": [
              "<__main__.AdaboostClassifier at 0x7fab1433bb38>"
            ]
          },
          "metadata": {
            "tags": []
          },
          "execution_count": 6
        }
      ]
    },
    {
      "cell_type": "code",
      "metadata": {
        "id": "seGm1LETG2HO",
        "colab_type": "code",
        "colab": {
          "base_uri": "https://localhost:8080/",
          "height": 33
        },
        "outputId": "6408d27a-3f76-43f6-96c3-a9dbd95d166d"
      },
      "source": [
        "query_point = [[2,1,0,1]]\n",
        "adb.predict(query_point)[0]"
      ],
      "execution_count": 7,
      "outputs": [
        {
          "output_type": "execute_result",
          "data": {
            "text/plain": [
              "-1.0"
            ]
          },
          "metadata": {
            "tags": []
          },
          "execution_count": 7
        }
      ]
    },
    {
      "cell_type": "markdown",
      "metadata": {
        "id": "-Jd-lERymPMc",
        "colab_type": "text"
      },
      "source": [
        "### Plotting the decision boundaries of the AdaboostClassifier algorithm\n",
        "This will be a comparative plot between sklearn's AdaboostClassifier() and the one created above from scratch."
      ]
    },
    {
      "cell_type": "code",
      "metadata": {
        "id": "23paQ62HH4qU",
        "colab_type": "code",
        "colab": {
          "base_uri": "https://localhost:8080/",
          "height": 282
        },
        "outputId": "4e097556-a8d7-4a60-c6ee-f2ae69c63038"
      },
      "source": [
        "X_T,Y_T = tennis.iloc[:,1:3].values,tennis.iloc[:,-1].values\n",
        "# Plotting function\n",
        "def plot_adaboost_boundary(clf=None,X=X_T,Y=Y_T,ax=None):\n",
        "  plt.cla()\n",
        "  x1_arr = np.linspace(start=X[:,0].min()-1,stop=X[:,0].max()+1)\n",
        "  x2_arr = np.linspace(start=X[:,1].min()-1,stop=X[:,1].max()+1)\n",
        "  XX,YY = np.meshgrid(x1_arr,x2_arr)\n",
        "  test_data = np.array([XX.ravel(),YY.ravel()]).T\n",
        "\n",
        "  # Checking availability of attributes\n",
        "  if hasattr(clf,'decision_function'):\n",
        "    z = (clf.decision_function(test_data)).reshape(XX.shape)\n",
        "  elif hasattr(clf,'predict_proba'):\n",
        "    z = (clf.predict_proba(test_data)).reshape(XX.shape)\n",
        "  else:\n",
        "    z = (clf.predict(test_data)).reshape(XX.shape)\n",
        "  \n",
        "  # Plotting\n",
        "  colors = ListedColormap(('blue','green'))\n",
        "  if ax is None:\n",
        "    ax = plt.gca()\n",
        "  ax.contourf(XX,YY,z,alpha = 0.3,cmap='winter')\n",
        "  ax.contour(XX,YY,z,cmap='winter')\n",
        "  ax.scatter(X[:,0],X[:,1],c=Y_T,cmap='winter',edgecolors='black',s=120)\n",
        "  ax.set_xlabel(\"Feature 1\")\n",
        "  ax.set_ylabel(\"Feature 2\")\n",
        "\n",
        "# Testing\n",
        "# sklearn's\n",
        "adab = adb(n_estimators=50)\n",
        "adab.fit(X_T,Y_T)\n",
        "plot_adaboost_boundary(clf=adab)"
      ],
      "execution_count": 22,
      "outputs": [
        {
          "output_type": "display_data",
          "data": {
            "image/png": "[encoded data removed]",
            "text/plain": [
              "<Figure size 432x288 with 1 Axes>"
            ]
          },
          "metadata": {
            "tags": [],
            "needs_background": "light"
          }
        }
      ]
    },
    {
      "cell_type": "code",
      "metadata": {
        "id": "-puUsuQloVM2",
        "colab_type": "code",
        "colab": {
          "base_uri": "https://localhost:8080/",
          "height": 282
        },
        "outputId": "80f2ace0-e53d-4e0b-d494-ac868da2afb3"
      },
      "source": [
        "# From scratch\n",
        "adabst = AdaboostClassifier(n_estimators=50)\n",
        "adabst.fit(X_T,Y_T)\n",
        "plot_adaboost_boundary(clf=adabst)"
      ],
      "execution_count": 23,
      "outputs": [
        {
          "output_type": "display_data",
          "data": {
            "image/png": "[encoded data removed]",
            "text/plain": [
              "<Figure size 432x288 with 1 Axes>"
            ]
          },
          "metadata": {
            "tags": [],
            "needs_background": "light"
          }
        }
      ]
    },
    {
      "cell_type": "code",
      "metadata": {
        "id": "quXqS7gLvZ0Y",
        "colab_type": "code",
        "colab": {}
      },
      "source": [
        ""
      ],
      "execution_count": null,
      "outputs": []
    }
  ]
}